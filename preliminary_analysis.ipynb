{
 "cells": [
  {
   "cell_type": "code",
   "execution_count": null,
   "id": "6fadf342",
   "metadata": {},
   "outputs": [],
   "source": [
    "from typing import Iterable, Literal\n",
    "import pandas as pd\n",
    "\n",
    "import networkx as nx"
   ]
  },
  {
   "cell_type": "markdown",
   "id": "c61173ee",
   "metadata": {},
   "source": [
    "## Data preprocessing"
   ]
  },
  {
   "cell_type": "markdown",
   "id": "60e4df01",
   "metadata": {},
   "source": [
    "Considering the [wiki-meta](https://snap.stanford.edu/data/wiki-meta.html) (user-talk) dataset, we identified 10354576 entries available for preprocessing, 1275002 (around 12%) of them is bot-generated traffic. This left us with 10354577 entries, a number of which (to be identified) are self-links that also need to be removed, as they are uninformative about the interactions between users."
   ]
  },
  {
   "cell_type": "markdown",
   "id": "cbbb4cdb",
   "metadata": {},
   "source": [
    "## Filter nodes"
   ]
  },
  {
   "cell_type": "code",
   "execution_count": null,
   "id": "9cc67968",
   "metadata": {},
   "outputs": [],
   "source": [
    "def filter_nodes(data: pd.DataFrame, nodes: Iterable[int]) -> pd.DataFrame:\n",
    "    \"\"\"\n",
    "    Filter the DataFrame to include only the specified nodes.\n",
    "    \"\"\"\n",
    "    return data[data[\"source\"].isin(nodes) | data[\"target\"].isin(nodes)]"
   ]
  },
  {
   "cell_type": "markdown",
   "id": "c0e493d4",
   "metadata": {},
   "source": [
    "## Graph building"
   ]
  },
  {
   "cell_type": "code",
   "execution_count": null,
   "id": "718e2042",
   "metadata": {},
   "outputs": [],
   "source": [
    "def build_social_graph(data: pd.DataFrame) -> nx.Graph:\n",
    "    \"\"\"\n",
    "    Build a social graph from the DataFrame.\n",
    "    \"\"\"\n",
    "    G = nx.Graph()\n",
    "    for _, row in data.iterrows():\n",
    "        G.add_edge(row[\"source\"], row[\"target\"])\n",
    "    return G\n",
    "\n",
    "\n",
    "def build_activity_graph(\n",
    "    data: pd.DataFrame, interaction: Literal[\"all\", \"RT\", \"MT\", \"RE\"] = \"all\"\n",
    ") -> nx.Graph:\n",
    "    \"\"\"\n",
    "    Build an activity graph from the DataFrame.\n",
    "    \"\"\"\n",
    "    G = nx.Graph()\n",
    "    for _, row in data.iterrows():\n",
    "        if interaction == \"all\":\n",
    "            # Add the edge with interaction as attribute\n",
    "            G.add_edge(row[\"source\"], row[\"target\"], interaction=row[\"interaction\"])\n",
    "        elif row[\"interaction\"] == interaction:\n",
    "            # Add the edge\n",
    "            G.add_edge(row[\"source\"], row[\"target\"])\n",
    "    return G"
   ]
  }
 ],
 "metadata": {
  "kernelspec": {
   "display_name": "Python 3",
   "language": "python",
   "name": "python3"
  },
  "language_info": {
   "codemirror_mode": {
    "name": "ipython",
    "version": 3
   },
   "file_extension": ".py",
   "mimetype": "text/x-python",
   "name": "python",
   "nbconvert_exporter": "python",
   "pygments_lexer": "ipython3",
   "version": "3.11.5"
  }
 },
 "nbformat": 4,
 "nbformat_minor": 5
}
