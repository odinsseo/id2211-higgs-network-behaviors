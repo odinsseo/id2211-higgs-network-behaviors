{
 "cells": [
  {
   "cell_type": "code",
   "execution_count": 4,
   "id": "6fadf342",
   "metadata": {},
   "outputs": [],
   "source": [
    "import pandas as pd\n",
    "import networkx as nx"
   ]
  },
  {
   "cell_type": "code",
   "execution_count": 5,
   "metadata": {},
   "outputs": [],
   "source": [
    "activity = pd.read_csv('data/higgs-activity_time.txt', sep=' ', header=None, names=['source', 'target', 'time', 'interaction'])\n",
    "activity[\"time\"] = pd.to_datetime(activity[\"time\"], unit='s')\n",
    "activity[\"interaction\"] = activity[\"interaction\"].astype('category')\n",
    "\n",
    "social = pd.read_csv('data/higgs-social_network.edgelist', sep=' ', header=None, names=['source', 'target'])"
   ]
  },
  {
   "cell_type": "code",
   "execution_count": 9,
   "id": "cb1b96d5",
   "metadata": {},
   "outputs": [],
   "source": [
    "activity_p1 = activity[activity[\"time\"] < \"2012-07-02 13:00:00\"]\n",
    "activity_p2 = activity[(activity[\"time\"] >= \"2012-07-02 13:00:00\") & (activity[\"time\"] < \"2012-07-03 00:00:00\")]\n",
    "activity_p3 = activity[(activity[\"time\"] >= \"2012-07-03 00:00:00\") & (activity[\"time\"] < \"2012-07-04 08:00:00\")]\n",
    "activity_p4 = activity[activity[\"time\"] >= \"2012-07-04 08:00:00\"]"
   ]
  }
 ],
 "metadata": {
  "kernelspec": {
   "display_name": "Python 3",
   "language": "python",
   "name": "python3"
  },
  "language_info": {
   "codemirror_mode": {
    "name": "ipython",
    "version": 3
   },
   "file_extension": ".py",
   "mimetype": "text/x-python",
   "name": "python",
   "nbconvert_exporter": "python",
   "pygments_lexer": "ipython3",
   "version": "3.11.5"
  }
 },
 "nbformat": 4,
 "nbformat_minor": 5
}
