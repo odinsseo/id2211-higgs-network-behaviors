{
 "cells": [
  {
   "cell_type": "code",
   "execution_count": null,
   "id": "6fadf342",
   "metadata": {},
   "outputs": [],
   "source": [
    "from typing import Iterable, Literal\n",
    "import pandas as pd\n",
    "\n",
    "import networkx as nx"
   ]
  },
  {
   "cell_type": "code",
   "execution_count": null,
   "metadata": {},
   "outputs": [],
   "source": [
    "activity = pd.read_csv(\n",
    "    \"data/higgs-activity_time.txt\",\n",
    "    sep=\" \",\n",
    "    header=None,\n",
    "    names=[\"source\", \"target\", \"time\", \"interaction\"],\n",
    ")\n",
    "activity[\"time\"] = pd.to_datetime(activity[\"time\"], unit=\"s\")\n",
    "activity[\"interaction\"] = activity[\"interaction\"].astype(\"category\")\n",
    "\n",
    "social = pd.read_csv(\n",
    "    \"data/higgs-social_network.edgelist\",\n",
    "    sep=\" \",\n",
    "    header=None,\n",
    "    names=[\"source\", \"target\"],\n",
    ")"
   ]
  },
  {
   "cell_type": "code",
   "execution_count": null,
   "id": "cb1b96d5",
   "metadata": {},
   "outputs": [],
   "source": [
    "activity_p1 = activity[activity[\"time\"] < \"2012-07-02 13:00:00\"]\n",
    "activity_p2 = activity[\n",
    "    (activity[\"time\"] >= \"2012-07-02 13:00:00\")\n",
    "    & (activity[\"time\"] < \"2012-07-03 00:00:00\")\n",
    "]\n",
    "activity_p3 = activity[\n",
    "    (activity[\"time\"] >= \"2012-07-03 00:00:00\")\n",
    "    & (activity[\"time\"] < \"2012-07-04 08:00:00\")\n",
    "]\n",
    "activity_p4 = activity[activity[\"time\"] >= \"2012-07-04 08:00:00\"]"
   ]
  },
  {
   "cell_type": "markdown",
   "id": "cbbb4cdb",
   "metadata": {},
   "source": [
    "## Filter nodes"
   ]
  },
  {
   "cell_type": "code",
   "execution_count": null,
   "id": "9cc67968",
   "metadata": {},
   "outputs": [],
   "source": [
    "def filter_nodes(data: pd.DataFrame, nodes: Iterable[int]) -> pd.DataFrame:\n",
    "    \"\"\"\n",
    "    Filter the DataFrame to include only the specified nodes.\n",
    "    \"\"\"\n",
    "    return data[data[\"source\"].isin(nodes) | data[\"target\"].isin(nodes)]"
   ]
  },
  {
   "cell_type": "markdown",
   "id": "c0e493d4",
   "metadata": {},
   "source": [
    "## Graph building"
   ]
  },
  {
   "cell_type": "code",
   "execution_count": null,
   "id": "718e2042",
   "metadata": {},
   "outputs": [],
   "source": [
    "def build_social_graph(data: pd.DataFrame) -> nx.Graph:\n",
    "    \"\"\"\n",
    "    Build a social graph from the DataFrame.\n",
    "    \"\"\"\n",
    "    G = nx.Graph()\n",
    "    for _, row in data.iterrows():\n",
    "        G.add_edge(row[\"source\"], row[\"target\"])\n",
    "    return G\n",
    "\n",
    "\n",
    "def build_activity_graph(\n",
    "    data: pd.DataFrame, interaction: Literal[\"all\", \"RT\", \"MT\", \"RE\"] = \"all\"\n",
    ") -> nx.Graph:\n",
    "    \"\"\"\n",
    "    Build an activity graph from the DataFrame.\n",
    "    \"\"\"\n",
    "    G = nx.Graph()\n",
    "    for _, row in data.iterrows():\n",
    "        if interaction == \"all\":\n",
    "            # Add the edge with interaction as attribute\n",
    "            G.add_edge(row[\"source\"], row[\"target\"], interaction=row[\"interaction\"])\n",
    "        elif row[\"interaction\"] == interaction:\n",
    "            # Add the edge\n",
    "            G.add_edge(row[\"source\"], row[\"target\"])\n",
    "    return G"
   ]
  }
 ],
 "metadata": {
  "kernelspec": {
   "display_name": "Python 3",
   "language": "python",
   "name": "python3"
  },
  "language_info": {
   "codemirror_mode": {
    "name": "ipython",
    "version": 3
   },
   "file_extension": ".py",
   "mimetype": "text/x-python",
   "name": "python",
   "nbconvert_exporter": "python",
   "pygments_lexer": "ipython3",
   "version": "3.11.5"
  }
 },
 "nbformat": 4,
 "nbformat_minor": 5
}
